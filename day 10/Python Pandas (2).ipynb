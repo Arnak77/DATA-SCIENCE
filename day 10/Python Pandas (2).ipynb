{
 "cells": [
  {
   "cell_type": "markdown",
   "id": "62d0a2db",
   "metadata": {},
   "source": [
    "# pandas introduction....."
   ]
  },
  {
   "cell_type": "code",
   "execution_count": 1,
   "id": "122c540f",
   "metadata": {},
   "outputs": [],
   "source": [
    "#pip install pandas"
   ]
  },
  {
   "cell_type": "code",
   "execution_count": 2,
   "id": "e5b4f0d9",
   "metadata": {},
   "outputs": [],
   "source": [
    "import pandas as pd"
   ]
  },
  {
   "cell_type": "code",
   "execution_count": 3,
   "id": "d10a0615",
   "metadata": {},
   "outputs": [
    {
     "name": "stdout",
     "output_type": "stream",
     "text": [
      "2.1.3\n"
     ]
    }
   ],
   "source": [
    "print(pd.__version__)"
   ]
  },
  {
   "cell_type": "markdown",
   "id": "0b673641",
   "metadata": {},
   "source": [
    "# pandas series "
   ]
  },
  {
   "cell_type": "markdown",
   "id": "a04aa5c7",
   "metadata": {},
   "source": [
    " a pandas series is like a column in a table it is 1-D array which holds data of any series."
   ]
  },
  {
   "cell_type": "code",
   "execution_count": 4,
   "id": "38a0f8d6",
   "metadata": {},
   "outputs": [
    {
     "data": {
      "text/plain": [
       "0    1\n",
       "1    7\n",
       "2    2\n",
       "dtype: int64"
      ]
     },
     "execution_count": 4,
     "metadata": {},
     "output_type": "execute_result"
    }
   ],
   "source": [
    "x1=[1,7,2]\n",
    "pd.Series(x1)"
   ]
  },
  {
   "cell_type": "markdown",
   "id": "767b5112",
   "metadata": {},
   "source": [
    "#### labelling \n",
    " -label can be use to access a spcified values"
   ]
  },
  {
   "cell_type": "code",
   "execution_count": 5,
   "id": "8763944c",
   "metadata": {},
   "outputs": [
    {
     "data": {
      "text/plain": [
       "1"
      ]
     },
     "execution_count": 5,
     "metadata": {},
     "output_type": "execute_result"
    }
   ],
   "source": [
    "x1=[1,7,2]\n",
    "pd.Series(x1)[0]"
   ]
  },
  {
   "cell_type": "code",
   "execution_count": 6,
   "id": "7fffde70",
   "metadata": {},
   "outputs": [
    {
     "data": {
      "text/plain": [
       "2"
      ]
     },
     "execution_count": 6,
     "metadata": {},
     "output_type": "execute_result"
    }
   ],
   "source": [
    "x1=[1,7,2]\n",
    "pd.Series(x1)[2]"
   ]
  },
  {
   "cell_type": "markdown",
   "id": "2d07e6ee",
   "metadata": {},
   "source": [
    "with create label yo can create your own name lablels"
   ]
  },
  {
   "cell_type": "code",
   "execution_count": 7,
   "id": "afe05004",
   "metadata": {},
   "outputs": [
    {
     "data": {
      "text/plain": [
       "x    1\n",
       "y    7\n",
       "z    2\n",
       "dtype: int64"
      ]
     },
     "execution_count": 7,
     "metadata": {},
     "output_type": "execute_result"
    }
   ],
   "source": [
    "x1=[1,7,2]\n",
    "pd.Series(x1,index=[\"x\",\"y\",\"z\"] )\n"
   ]
  },
  {
   "cell_type": "markdown",
   "id": "7e8e19ca",
   "metadata": {},
   "source": [
    "label can be use to access a spcified values .(after creating own lables)"
   ]
  },
  {
   "cell_type": "code",
   "execution_count": 43,
   "id": "15938a31",
   "metadata": {},
   "outputs": [],
   "source": [
    "x1=[1,7,2]\n",
    "x2=pd.Series(x1,index=[\"x\",\"y\",\"z\"] )\n"
   ]
  },
  {
   "cell_type": "code",
   "execution_count": 44,
   "id": "adad5b11",
   "metadata": {},
   "outputs": [
    {
     "data": {
      "text/plain": [
       "1"
      ]
     },
     "execution_count": 44,
     "metadata": {},
     "output_type": "execute_result"
    }
   ],
   "source": [
    "x2[\"x\"]"
   ]
  },
  {
   "cell_type": "markdown",
   "id": "6c97ad46",
   "metadata": {},
   "source": [
    "you can also use a key or values object like a dictionary a series"
   ]
  },
  {
   "cell_type": "markdown",
   "id": "544b9e5e",
   "metadata": {},
   "source": [
    "here we will create a simple pandas series from a dictionary "
   ]
  },
  {
   "cell_type": "code",
   "execution_count": 46,
   "id": "f3d7c5e4",
   "metadata": {},
   "outputs": [],
   "source": [
    "cal={\"day1\":1,\"day2\":2,\"day3\":3}"
   ]
  },
  {
   "cell_type": "code",
   "execution_count": 47,
   "id": "8f711826",
   "metadata": {},
   "outputs": [
    {
     "data": {
      "text/plain": [
       "day1    1\n",
       "day2    2\n",
       "day3    3\n",
       "dtype: int64"
      ]
     },
     "execution_count": 47,
     "metadata": {},
     "output_type": "execute_result"
    }
   ],
   "source": [
    "pd.Series(cal)"
   ]
  },
  {
   "cell_type": "markdown",
   "id": "1b779009",
   "metadata": {},
   "source": [
    "now we will create a series using only data from day1 and day 2"
   ]
  },
  {
   "cell_type": "code",
   "execution_count": null,
   "id": "decc6760",
   "metadata": {},
   "outputs": [],
   "source": [
    "cal={\"day1\":1,\"day2\":2,\"day3\":3}"
   ]
  },
  {
   "cell_type": "code",
   "execution_count": 50,
   "id": "3b054f3a",
   "metadata": {},
   "outputs": [],
   "source": [
    "result=pd.Series(cal,index=[\"day1\",\"day3\"])"
   ]
  },
  {
   "cell_type": "code",
   "execution_count": 51,
   "id": "c952d1d0",
   "metadata": {},
   "outputs": [
    {
     "data": {
      "text/plain": [
       "day1    1\n",
       "day3    3\n",
       "dtype: int64"
      ]
     },
     "execution_count": 51,
     "metadata": {},
     "output_type": "execute_result"
    }
   ],
   "source": [
    "result"
   ]
  },
  {
   "cell_type": "markdown",
   "id": "204e2981",
   "metadata": {},
   "source": [
    "# DataFrame"
   ]
  },
  {
   "cell_type": "markdown",
   "id": "a3c365e2",
   "metadata": {},
   "source": [
    "data sets in pandas are usally multidimentional tables and they are called the DataFreams"
   ]
  },
  {
   "cell_type": "markdown",
   "id": "95f060a4",
   "metadata": {},
   "source": [
    "series are like columns and DataFreame is the whole tables. "
   ]
  },
  {
   "cell_type": "markdown",
   "id": "76bd7565",
   "metadata": {},
   "source": [
    "we will now create a datafream from 2 sereis"
   ]
  },
  {
   "cell_type": "code",
   "execution_count": 61,
   "id": "95976f49",
   "metadata": {},
   "outputs": [],
   "source": [
    "x1={\"cal\":[220,390,540],\"duration\":[50,40,45]}"
   ]
  },
  {
   "cell_type": "code",
   "execution_count": 62,
   "id": "a874626e",
   "metadata": {},
   "outputs": [
    {
     "data": {
      "text/html": [
       "<div>\n",
       "<style scoped>\n",
       "    .dataframe tbody tr th:only-of-type {\n",
       "        vertical-align: middle;\n",
       "    }\n",
       "\n",
       "    .dataframe tbody tr th {\n",
       "        vertical-align: top;\n",
       "    }\n",
       "\n",
       "    .dataframe thead th {\n",
       "        text-align: right;\n",
       "    }\n",
       "</style>\n",
       "<table border=\"1\" class=\"dataframe\">\n",
       "  <thead>\n",
       "    <tr style=\"text-align: right;\">\n",
       "      <th></th>\n",
       "      <th>cal</th>\n",
       "      <th>duration</th>\n",
       "    </tr>\n",
       "  </thead>\n",
       "  <tbody>\n",
       "    <tr>\n",
       "      <th>0</th>\n",
       "      <td>220</td>\n",
       "      <td>50</td>\n",
       "    </tr>\n",
       "    <tr>\n",
       "      <th>1</th>\n",
       "      <td>390</td>\n",
       "      <td>40</td>\n",
       "    </tr>\n",
       "    <tr>\n",
       "      <th>2</th>\n",
       "      <td>540</td>\n",
       "      <td>45</td>\n",
       "    </tr>\n",
       "  </tbody>\n",
       "</table>\n",
       "</div>"
      ],
      "text/plain": [
       "   cal  duration\n",
       "0  220        50\n",
       "1  390        40\n",
       "2  540        45"
      ]
     },
     "execution_count": 62,
     "metadata": {},
     "output_type": "execute_result"
    }
   ],
   "source": [
    "pd.DataFrame(x1)"
   ]
  },
  {
   "cell_type": "markdown",
   "id": "48f9834f-2a8b-4f85-934d-9570c28dad59",
   "metadata": {},
   "source": [
    "locate row pandas use the loc attribute to reurn one or more specified row"
   ]
  },
  {
   "cell_type": "code",
   "execution_count": 8,
   "id": "c6734e8f-8312-430d-bae1-7e3c3e9323f8",
   "metadata": {},
   "outputs": [],
   "source": [
    "x1={\"cal\":[220,390,540],\"duration\":[50,40,45]}"
   ]
  },
  {
   "cell_type": "code",
   "execution_count": 9,
   "id": "6117d370-3d2c-4389-b884-089c79f6daeb",
   "metadata": {},
   "outputs": [
    {
     "data": {
      "text/plain": [
       "{'cal': [220, 390, 540], 'duration': [50, 40, 45]}"
      ]
     },
     "execution_count": 9,
     "metadata": {},
     "output_type": "execute_result"
    }
   ],
   "source": [
    "x1"
   ]
  },
  {
   "cell_type": "code",
   "execution_count": 15,
   "id": "240aff0d-05ac-4903-8bb7-c10fc6b60bd2",
   "metadata": {},
   "outputs": [
    {
     "data": {
      "text/html": [
       "<div>\n",
       "<style scoped>\n",
       "    .dataframe tbody tr th:only-of-type {\n",
       "        vertical-align: middle;\n",
       "    }\n",
       "\n",
       "    .dataframe tbody tr th {\n",
       "        vertical-align: top;\n",
       "    }\n",
       "\n",
       "    .dataframe thead th {\n",
       "        text-align: right;\n",
       "    }\n",
       "</style>\n",
       "<table border=\"1\" class=\"dataframe\">\n",
       "  <thead>\n",
       "    <tr style=\"text-align: right;\">\n",
       "      <th></th>\n",
       "      <th>cal</th>\n",
       "      <th>duration</th>\n",
       "    </tr>\n",
       "  </thead>\n",
       "  <tbody>\n",
       "    <tr>\n",
       "      <th>0</th>\n",
       "      <td>220</td>\n",
       "      <td>50</td>\n",
       "    </tr>\n",
       "    <tr>\n",
       "      <th>1</th>\n",
       "      <td>390</td>\n",
       "      <td>40</td>\n",
       "    </tr>\n",
       "    <tr>\n",
       "      <th>2</th>\n",
       "      <td>540</td>\n",
       "      <td>45</td>\n",
       "    </tr>\n",
       "  </tbody>\n",
       "</table>\n",
       "</div>"
      ],
      "text/plain": [
       "   cal  duration\n",
       "0  220        50\n",
       "1  390        40\n",
       "2  540        45"
      ]
     },
     "execution_count": 15,
     "metadata": {},
     "output_type": "execute_result"
    }
   ],
   "source": [
    "pd.DataFrame(x1)"
   ]
  },
  {
   "cell_type": "code",
   "execution_count": 25,
   "id": "4fbfc75f-6801-42cd-a92f-550243cd9f88",
   "metadata": {},
   "outputs": [],
   "source": [
    "df=pd.DataFrame(x1)"
   ]
  },
  {
   "cell_type": "code",
   "execution_count": 27,
   "id": "4a634c32-7c45-4886-9770-6e2d8f98b64d",
   "metadata": {},
   "outputs": [
    {
     "data": {
      "text/html": [
       "<div>\n",
       "<style scoped>\n",
       "    .dataframe tbody tr th:only-of-type {\n",
       "        vertical-align: middle;\n",
       "    }\n",
       "\n",
       "    .dataframe tbody tr th {\n",
       "        vertical-align: top;\n",
       "    }\n",
       "\n",
       "    .dataframe thead th {\n",
       "        text-align: right;\n",
       "    }\n",
       "</style>\n",
       "<table border=\"1\" class=\"dataframe\">\n",
       "  <thead>\n",
       "    <tr style=\"text-align: right;\">\n",
       "      <th></th>\n",
       "      <th>cal</th>\n",
       "      <th>duration</th>\n",
       "    </tr>\n",
       "  </thead>\n",
       "  <tbody>\n",
       "    <tr>\n",
       "      <th>0</th>\n",
       "      <td>220</td>\n",
       "      <td>50</td>\n",
       "    </tr>\n",
       "    <tr>\n",
       "      <th>1</th>\n",
       "      <td>390</td>\n",
       "      <td>40</td>\n",
       "    </tr>\n",
       "    <tr>\n",
       "      <th>2</th>\n",
       "      <td>540</td>\n",
       "      <td>45</td>\n",
       "    </tr>\n",
       "  </tbody>\n",
       "</table>\n",
       "</div>"
      ],
      "text/plain": [
       "   cal  duration\n",
       "0  220        50\n",
       "1  390        40\n",
       "2  540        45"
      ]
     },
     "execution_count": 27,
     "metadata": {},
     "output_type": "execute_result"
    }
   ],
   "source": [
    "df"
   ]
  },
  {
   "cell_type": "code",
   "execution_count": 28,
   "id": "9494225a-74e1-4281-9147-fa6959046cb6",
   "metadata": {},
   "outputs": [
    {
     "data": {
      "text/plain": [
       "cal         220\n",
       "duration     50\n",
       "Name: 0, dtype: int64"
      ]
     },
     "execution_count": 28,
     "metadata": {},
     "output_type": "execute_result"
    }
   ],
   "source": [
    "df.loc[0]"
   ]
  },
  {
   "cell_type": "markdown",
   "id": "92dc3e87-ad54-4273-9216-7b6dd1143ed1",
   "metadata": {},
   "source": [
    "ex of returning row 0 and 1:"
   ]
  },
  {
   "cell_type": "code",
   "execution_count": 30,
   "id": "f912428d-b1e0-4670-a3c4-d7e992d7f2e3",
   "metadata": {},
   "outputs": [
    {
     "data": {
      "text/html": [
       "<div>\n",
       "<style scoped>\n",
       "    .dataframe tbody tr th:only-of-type {\n",
       "        vertical-align: middle;\n",
       "    }\n",
       "\n",
       "    .dataframe tbody tr th {\n",
       "        vertical-align: top;\n",
       "    }\n",
       "\n",
       "    .dataframe thead th {\n",
       "        text-align: right;\n",
       "    }\n",
       "</style>\n",
       "<table border=\"1\" class=\"dataframe\">\n",
       "  <thead>\n",
       "    <tr style=\"text-align: right;\">\n",
       "      <th></th>\n",
       "      <th>cal</th>\n",
       "      <th>duration</th>\n",
       "    </tr>\n",
       "  </thead>\n",
       "  <tbody>\n",
       "    <tr>\n",
       "      <th>0</th>\n",
       "      <td>220</td>\n",
       "      <td>50</td>\n",
       "    </tr>\n",
       "    <tr>\n",
       "      <th>1</th>\n",
       "      <td>390</td>\n",
       "      <td>40</td>\n",
       "    </tr>\n",
       "  </tbody>\n",
       "</table>\n",
       "</div>"
      ],
      "text/plain": [
       "   cal  duration\n",
       "0  220        50\n",
       "1  390        40"
      ]
     },
     "execution_count": 30,
     "metadata": {},
     "output_type": "execute_result"
    }
   ],
   "source": [
    "df.loc[[0,1]]"
   ]
  },
  {
   "cell_type": "markdown",
   "id": "6f2ee591-6a95-4e72-80e4-00e5dd66e96d",
   "metadata": {},
   "source": [
    " name index: with the index arg, you can name your own ndex."
   ]
  },
  {
   "cell_type": "code",
   "execution_count": 37,
   "id": "3fa4e29e-821f-4a91-b144-d06947b41855",
   "metadata": {},
   "outputs": [],
   "source": [
    "df=pd.DataFrame(x1,index=[\"Day1\",\"Day2\",\"Day3\"])"
   ]
  },
  {
   "cell_type": "code",
   "execution_count": 38,
   "id": "e9a29183-f5ce-410a-8cb8-5fc0f1a535c3",
   "metadata": {},
   "outputs": [
    {
     "data": {
      "text/html": [
       "<div>\n",
       "<style scoped>\n",
       "    .dataframe tbody tr th:only-of-type {\n",
       "        vertical-align: middle;\n",
       "    }\n",
       "\n",
       "    .dataframe tbody tr th {\n",
       "        vertical-align: top;\n",
       "    }\n",
       "\n",
       "    .dataframe thead th {\n",
       "        text-align: right;\n",
       "    }\n",
       "</style>\n",
       "<table border=\"1\" class=\"dataframe\">\n",
       "  <thead>\n",
       "    <tr style=\"text-align: right;\">\n",
       "      <th></th>\n",
       "      <th>cal</th>\n",
       "      <th>duration</th>\n",
       "    </tr>\n",
       "  </thead>\n",
       "  <tbody>\n",
       "    <tr>\n",
       "      <th>Day1</th>\n",
       "      <td>220</td>\n",
       "      <td>50</td>\n",
       "    </tr>\n",
       "    <tr>\n",
       "      <th>Day2</th>\n",
       "      <td>390</td>\n",
       "      <td>40</td>\n",
       "    </tr>\n",
       "    <tr>\n",
       "      <th>Day3</th>\n",
       "      <td>540</td>\n",
       "      <td>45</td>\n",
       "    </tr>\n",
       "  </tbody>\n",
       "</table>\n",
       "</div>"
      ],
      "text/plain": [
       "      cal  duration\n",
       "Day1  220        50\n",
       "Day2  390        40\n",
       "Day3  540        45"
      ]
     },
     "execution_count": 38,
     "metadata": {},
     "output_type": "execute_result"
    }
   ],
   "source": [
    "df"
   ]
  },
  {
   "cell_type": "markdown",
   "id": "9b92ecc1-0fec-478e-8128-0ced9ce032b7",
   "metadata": {},
   "source": [
    "locate the name index-:"
   ]
  },
  {
   "cell_type": "code",
   "execution_count": 47,
   "id": "2def3e06-9f6c-4b8d-af85-501acdd00432",
   "metadata": {},
   "outputs": [
    {
     "data": {
      "text/html": [
       "<div>\n",
       "<style scoped>\n",
       "    .dataframe tbody tr th:only-of-type {\n",
       "        vertical-align: middle;\n",
       "    }\n",
       "\n",
       "    .dataframe tbody tr th {\n",
       "        vertical-align: top;\n",
       "    }\n",
       "\n",
       "    .dataframe thead th {\n",
       "        text-align: right;\n",
       "    }\n",
       "</style>\n",
       "<table border=\"1\" class=\"dataframe\">\n",
       "  <thead>\n",
       "    <tr style=\"text-align: right;\">\n",
       "      <th></th>\n",
       "      <th>cal</th>\n",
       "      <th>duration</th>\n",
       "    </tr>\n",
       "  </thead>\n",
       "  <tbody>\n",
       "    <tr>\n",
       "      <th>Day1</th>\n",
       "      <td>220</td>\n",
       "      <td>50</td>\n",
       "    </tr>\n",
       "    <tr>\n",
       "      <th>Day2</th>\n",
       "      <td>390</td>\n",
       "      <td>40</td>\n",
       "    </tr>\n",
       "  </tbody>\n",
       "</table>\n",
       "</div>"
      ],
      "text/plain": [
       "      cal  duration\n",
       "Day1  220        50\n",
       "Day2  390        40"
      ]
     },
     "execution_count": 47,
     "metadata": {},
     "output_type": "execute_result"
    }
   ],
   "source": [
    "df.loc[[\"Day1\",\"Day2\"]]"
   ]
  },
  {
   "cell_type": "markdown",
   "id": "be081387-3d39-4597-b275-47ade30dd26e",
   "metadata": {},
   "source": [
    "# pandas_csv"
   ]
  },
  {
   "cell_type": "markdown",
   "id": "20d7d0ce-63dd-4956-87ac-932f1224dc27",
   "metadata": {},
   "source": [
    "Load the data from the csv file in the dataframe i.e data.csv"
   ]
  },
  {
   "cell_type": "markdown",
   "id": "057c3fa2-7431-46be-8cdd-d571c842a286",
   "metadata": {},
   "source": [
    "csv(comma seperated file)"
   ]
  },
  {
   "cell_type": "markdown",
   "id": "430dfc61-3103-4772-93e2-89c175a85d94",
   "metadata": {},
   "source": [
    "it is a simple way to store the big and bigest data sets. csv files contains plan text.."
   ]
  },
  {
   "cell_type": "markdown",
   "id": "8f76f23c-0073-4fd4-841f-30ae162e8584",
   "metadata": {},
   "source": [
    "fileload=pd.read_csv(\"\")#path..."
   ]
  },
  {
   "cell_type": "markdown",
   "id": "efde30df-0c83-4d52-bdaa-1b7addc1919c",
   "metadata": {},
   "source": [
    "loading the csv int at dataframe"
   ]
  },
  {
   "cell_type": "code",
   "execution_count": 59,
   "id": "15db1751-e952-4d9d-ae16-b263ee532419",
   "metadata": {},
   "outputs": [],
   "source": [
    "df=pd.read_csv(r'C:\\Users\\arnak\\OneDrive\\Pictures\\sample1.csv')"
   ]
  },
  {
   "cell_type": "code",
   "execution_count": 60,
   "id": "05c17fa5-e343-4257-a797-0135aa86e2f7",
   "metadata": {},
   "outputs": [
    {
     "data": {
      "text/html": [
       "<div>\n",
       "<style scoped>\n",
       "    .dataframe tbody tr th:only-of-type {\n",
       "        vertical-align: middle;\n",
       "    }\n",
       "\n",
       "    .dataframe tbody tr th {\n",
       "        vertical-align: top;\n",
       "    }\n",
       "\n",
       "    .dataframe thead th {\n",
       "        text-align: right;\n",
       "    }\n",
       "</style>\n",
       "<table border=\"1\" class=\"dataframe\">\n",
       "  <thead>\n",
       "    <tr style=\"text-align: right;\">\n",
       "      <th></th>\n",
       "      <th>Name</th>\n",
       "      <th>age</th>\n",
       "      <th>Experience</th>\n",
       "      <th>Salary</th>\n",
       "    </tr>\n",
       "  </thead>\n",
       "  <tbody>\n",
       "    <tr>\n",
       "      <th>0</th>\n",
       "      <td>jack</td>\n",
       "      <td>31</td>\n",
       "      <td>10</td>\n",
       "      <td>30000</td>\n",
       "    </tr>\n",
       "    <tr>\n",
       "      <th>1</th>\n",
       "      <td>alex</td>\n",
       "      <td>30</td>\n",
       "      <td>8</td>\n",
       "      <td>25000</td>\n",
       "    </tr>\n",
       "    <tr>\n",
       "      <th>2</th>\n",
       "      <td>caroline</td>\n",
       "      <td>29</td>\n",
       "      <td>4</td>\n",
       "      <td>20000</td>\n",
       "    </tr>\n",
       "    <tr>\n",
       "      <th>3</th>\n",
       "      <td>paul</td>\n",
       "      <td>24</td>\n",
       "      <td>3</td>\n",
       "      <td>20000</td>\n",
       "    </tr>\n",
       "    <tr>\n",
       "      <th>4</th>\n",
       "      <td>sandra</td>\n",
       "      <td>21</td>\n",
       "      <td>1</td>\n",
       "      <td>15000</td>\n",
       "    </tr>\n",
       "    <tr>\n",
       "      <th>5</th>\n",
       "      <td>casandra</td>\n",
       "      <td>23</td>\n",
       "      <td>2</td>\n",
       "      <td>18000</td>\n",
       "    </tr>\n",
       "  </tbody>\n",
       "</table>\n",
       "</div>"
      ],
      "text/plain": [
       "       Name  age  Experience  Salary\n",
       "0      jack   31          10   30000\n",
       "1      alex   30           8   25000\n",
       "2  caroline   29           4   20000\n",
       "3      paul   24           3   20000\n",
       "4    sandra   21           1   15000\n",
       "5  casandra   23           2   18000"
      ]
     },
     "execution_count": 60,
     "metadata": {},
     "output_type": "execute_result"
    }
   ],
   "source": [
    "df"
   ]
  },
  {
   "cell_type": "markdown",
   "id": "ec34943a-e531-4e31-b4a4-4772f707b2ae",
   "metadata": {},
   "source": [
    "max rows-: you can check your system's  maximum rows with : "
   ]
  },
  {
   "cell_type": "code",
   "execution_count": 67,
   "id": "bf6fd346-d669-4bf6-ba7d-c73fea5cd2df",
   "metadata": {},
   "outputs": [
    {
     "data": {
      "text/plain": [
       "60"
      ]
     },
     "execution_count": 67,
     "metadata": {},
     "output_type": "execute_result"
    }
   ],
   "source": [
    "pd.options.display.max_rows"
   ]
  },
  {
   "cell_type": "markdown",
   "id": "92f5cd08-5229-4902-bfa8-854431fb46cb",
   "metadata": {},
   "source": [
    "yes we can increase the maximum number of rows to display the entire data..."
   ]
  },
  {
   "cell_type": "markdown",
   "id": "06ef5d24-ff2d-4c1d-b023-291c0ffaa4fa",
   "metadata": {},
   "source": [
    "example-: #pd.options.display.max_rows=9999  "
   ]
  },
  {
   "cell_type": "markdown",
   "id": "8347438a-c1b8-4a4d-85c2-f5d3e2015fd9",
   "metadata": {},
   "source": [
    "# pandas Analyzing"
   ]
  },
  {
   "cell_type": "markdown",
   "id": "d1513ddc-2855-4651-bc95-33e09cc83584",
   "metadata": {},
   "source": [
    "viewing the data -: one of the most used method for a quick overview of the datafreame is the head() method . this methd specified number of rows"
   ]
  },
  {
   "cell_type": "code",
   "execution_count": 69,
   "id": "0850736f-c6eb-41f0-bfca-3a08231f4a23",
   "metadata": {},
   "outputs": [
    {
     "data": {
      "text/html": [
       "<div>\n",
       "<style scoped>\n",
       "    .dataframe tbody tr th:only-of-type {\n",
       "        vertical-align: middle;\n",
       "    }\n",
       "\n",
       "    .dataframe tbody tr th {\n",
       "        vertical-align: top;\n",
       "    }\n",
       "\n",
       "    .dataframe thead th {\n",
       "        text-align: right;\n",
       "    }\n",
       "</style>\n",
       "<table border=\"1\" class=\"dataframe\">\n",
       "  <thead>\n",
       "    <tr style=\"text-align: right;\">\n",
       "      <th></th>\n",
       "      <th>Name</th>\n",
       "      <th>age</th>\n",
       "      <th>Experience</th>\n",
       "      <th>Salary</th>\n",
       "    </tr>\n",
       "  </thead>\n",
       "  <tbody>\n",
       "    <tr>\n",
       "      <th>0</th>\n",
       "      <td>jack</td>\n",
       "      <td>31</td>\n",
       "      <td>10</td>\n",
       "      <td>30000</td>\n",
       "    </tr>\n",
       "    <tr>\n",
       "      <th>1</th>\n",
       "      <td>alex</td>\n",
       "      <td>30</td>\n",
       "      <td>8</td>\n",
       "      <td>25000</td>\n",
       "    </tr>\n",
       "    <tr>\n",
       "      <th>2</th>\n",
       "      <td>caroline</td>\n",
       "      <td>29</td>\n",
       "      <td>4</td>\n",
       "      <td>20000</td>\n",
       "    </tr>\n",
       "    <tr>\n",
       "      <th>3</th>\n",
       "      <td>paul</td>\n",
       "      <td>24</td>\n",
       "      <td>3</td>\n",
       "      <td>20000</td>\n",
       "    </tr>\n",
       "    <tr>\n",
       "      <th>4</th>\n",
       "      <td>sandra</td>\n",
       "      <td>21</td>\n",
       "      <td>1</td>\n",
       "      <td>15000</td>\n",
       "    </tr>\n",
       "  </tbody>\n",
       "</table>\n",
       "</div>"
      ],
      "text/plain": [
       "       Name  age  Experience  Salary\n",
       "0      jack   31          10   30000\n",
       "1      alex   30           8   25000\n",
       "2  caroline   29           4   20000\n",
       "3      paul   24           3   20000\n",
       "4    sandra   21           1   15000"
      ]
     },
     "execution_count": 69,
     "metadata": {},
     "output_type": "execute_result"
    }
   ],
   "source": [
    "df.head()"
   ]
  },
  {
   "cell_type": "markdown",
   "id": "10abddce-1c7a-412c-9a87-2f27a2f9b5ef",
   "metadata": {},
   "source": [
    "here we will print the first 3 rows in the dataframe "
   ]
  },
  {
   "cell_type": "code",
   "execution_count": 73,
   "id": "55806f03-e46b-42c4-914a-d32fc1c159db",
   "metadata": {},
   "outputs": [
    {
     "data": {
      "text/html": [
       "<div>\n",
       "<style scoped>\n",
       "    .dataframe tbody tr th:only-of-type {\n",
       "        vertical-align: middle;\n",
       "    }\n",
       "\n",
       "    .dataframe tbody tr th {\n",
       "        vertical-align: top;\n",
       "    }\n",
       "\n",
       "    .dataframe thead th {\n",
       "        text-align: right;\n",
       "    }\n",
       "</style>\n",
       "<table border=\"1\" class=\"dataframe\">\n",
       "  <thead>\n",
       "    <tr style=\"text-align: right;\">\n",
       "      <th></th>\n",
       "      <th>Name</th>\n",
       "      <th>age</th>\n",
       "      <th>Experience</th>\n",
       "      <th>Salary</th>\n",
       "    </tr>\n",
       "  </thead>\n",
       "  <tbody>\n",
       "    <tr>\n",
       "      <th>0</th>\n",
       "      <td>jack</td>\n",
       "      <td>31</td>\n",
       "      <td>10</td>\n",
       "      <td>30000</td>\n",
       "    </tr>\n",
       "    <tr>\n",
       "      <th>1</th>\n",
       "      <td>alex</td>\n",
       "      <td>30</td>\n",
       "      <td>8</td>\n",
       "      <td>25000</td>\n",
       "    </tr>\n",
       "    <tr>\n",
       "      <th>2</th>\n",
       "      <td>caroline</td>\n",
       "      <td>29</td>\n",
       "      <td>4</td>\n",
       "      <td>20000</td>\n",
       "    </tr>\n",
       "  </tbody>\n",
       "</table>\n",
       "</div>"
      ],
      "text/plain": [
       "       Name  age  Experience  Salary\n",
       "0      jack   31          10   30000\n",
       "1      alex   30           8   25000\n",
       "2  caroline   29           4   20000"
      ]
     },
     "execution_count": 73,
     "metadata": {},
     "output_type": "execute_result"
    }
   ],
   "source": [
    "df.head(3)"
   ]
  },
  {
   "cell_type": "markdown",
   "id": "d0233b60-8cd5-4174-a82b-825ea1aeea35",
   "metadata": {},
   "source": [
    "here we will print the last 2 rows in the dataframe "
   ]
  },
  {
   "cell_type": "code",
   "execution_count": 74,
   "id": "dc478a3c-922f-4d48-aaf4-2248bfeb7df6",
   "metadata": {},
   "outputs": [
    {
     "data": {
      "text/html": [
       "<div>\n",
       "<style scoped>\n",
       "    .dataframe tbody tr th:only-of-type {\n",
       "        vertical-align: middle;\n",
       "    }\n",
       "\n",
       "    .dataframe tbody tr th {\n",
       "        vertical-align: top;\n",
       "    }\n",
       "\n",
       "    .dataframe thead th {\n",
       "        text-align: right;\n",
       "    }\n",
       "</style>\n",
       "<table border=\"1\" class=\"dataframe\">\n",
       "  <thead>\n",
       "    <tr style=\"text-align: right;\">\n",
       "      <th></th>\n",
       "      <th>Name</th>\n",
       "      <th>age</th>\n",
       "      <th>Experience</th>\n",
       "      <th>Salary</th>\n",
       "    </tr>\n",
       "  </thead>\n",
       "  <tbody>\n",
       "    <tr>\n",
       "      <th>4</th>\n",
       "      <td>sandra</td>\n",
       "      <td>21</td>\n",
       "      <td>1</td>\n",
       "      <td>15000</td>\n",
       "    </tr>\n",
       "    <tr>\n",
       "      <th>5</th>\n",
       "      <td>casandra</td>\n",
       "      <td>23</td>\n",
       "      <td>2</td>\n",
       "      <td>18000</td>\n",
       "    </tr>\n",
       "  </tbody>\n",
       "</table>\n",
       "</div>"
      ],
      "text/plain": [
       "       Name  age  Experience  Salary\n",
       "4    sandra   21           1   15000\n",
       "5  casandra   23           2   18000"
      ]
     },
     "execution_count": 74,
     "metadata": {},
     "output_type": "execute_result"
    }
   ],
   "source": [
    "df.tail(2)"
   ]
  },
  {
   "cell_type": "markdown",
   "id": "e4253029-1445-443a-9588-e6432cfd7471",
   "metadata": {},
   "source": [
    "what if you want the information about the data in the dataframe: via info()..."
   ]
  },
  {
   "cell_type": "code",
   "execution_count": 77,
   "id": "8dd57904-78ce-4d79-8123-39a4cba04f37",
   "metadata": {},
   "outputs": [
    {
     "name": "stdout",
     "output_type": "stream",
     "text": [
      "<class 'pandas.core.frame.DataFrame'>\n",
      "RangeIndex: 6 entries, 0 to 5\n",
      "Data columns (total 4 columns):\n",
      " #   Column      Non-Null Count  Dtype \n",
      "---  ------      --------------  ----- \n",
      " 0   Name        6 non-null      object\n",
      " 1   age         6 non-null      int64 \n",
      " 2   Experience  6 non-null      int64 \n",
      " 3   Salary      6 non-null      int64 \n",
      "dtypes: int64(3), object(1)\n",
      "memory usage: 324.0+ bytes\n"
     ]
    }
   ],
   "source": [
    "df.info()"
   ]
  },
  {
   "cell_type": "markdown",
   "id": "4a81f6c9-afc8-4af2-857e-0e85344afcd2",
   "metadata": {},
   "source": [
    "# pandas cleaning data"
   ]
  },
  {
   "cell_type": "markdown",
   "id": "2128b45a-829b-4a02-9cb6-426961692b49",
   "metadata": {},
   "source": [
    "cleaning data-: it means fixing the bad data in your dataset."
   ]
  },
  {
   "cell_type": "markdown",
   "id": "874f5f42-33f8-4706-a829-cbdc2ab93755",
   "metadata": {},
   "source": [
    "1]empty cell 2] data in wrong formate 3] duplicate dat 4]wrong data"
   ]
  },
  {
   "cell_type": "markdown",
   "id": "79307de8-0f4e-41d4-a508-d31295e5c62b",
   "metadata": {},
   "source": [
    "Empty cell..-: it will give you wrong result always,we will have remove the rows always that contain the bad data"
   ]
  },
  {
   "cell_type": "code",
   "execution_count": 109,
   "id": "53057417-4176-4c22-9b35-88d2c9d478c1",
   "metadata": {},
   "outputs": [],
   "source": [
    "data=pd.read_csv(r\"C:\\Users\\arnak\\Downloads\\sample4 - sample4.csv.csv\")"
   ]
  },
  {
   "cell_type": "code",
   "execution_count": 110,
   "id": "fef3c629",
   "metadata": {},
   "outputs": [
    {
     "data": {
      "text/html": [
       "<div>\n",
       "<style scoped>\n",
       "    .dataframe tbody tr th:only-of-type {\n",
       "        vertical-align: middle;\n",
       "    }\n",
       "\n",
       "    .dataframe tbody tr th {\n",
       "        vertical-align: top;\n",
       "    }\n",
       "\n",
       "    .dataframe thead th {\n",
       "        text-align: right;\n",
       "    }\n",
       "</style>\n",
       "<table border=\"1\" class=\"dataframe\">\n",
       "  <thead>\n",
       "    <tr style=\"text-align: right;\">\n",
       "      <th></th>\n",
       "      <th>Name</th>\n",
       "      <th>Departments</th>\n",
       "      <th>salary</th>\n",
       "    </tr>\n",
       "  </thead>\n",
       "  <tbody>\n",
       "    <tr>\n",
       "      <th>0</th>\n",
       "      <td>jack</td>\n",
       "      <td>Data Science</td>\n",
       "      <td>10000.0</td>\n",
       "    </tr>\n",
       "    <tr>\n",
       "      <th>1</th>\n",
       "      <td>alex</td>\n",
       "      <td>ML</td>\n",
       "      <td>NaN</td>\n",
       "    </tr>\n",
       "    <tr>\n",
       "      <th>2</th>\n",
       "      <td>caroline</td>\n",
       "      <td>NaN</td>\n",
       "      <td>4000.0</td>\n",
       "    </tr>\n",
       "    <tr>\n",
       "      <th>3</th>\n",
       "      <td>jack</td>\n",
       "      <td>AI</td>\n",
       "      <td>4000.0</td>\n",
       "    </tr>\n",
       "    <tr>\n",
       "      <th>4</th>\n",
       "      <td>sandra</td>\n",
       "      <td>Data Science</td>\n",
       "      <td>3000.0</td>\n",
       "    </tr>\n",
       "    <tr>\n",
       "      <th>5</th>\n",
       "      <td>jack</td>\n",
       "      <td>NLP</td>\n",
       "      <td>20000.0</td>\n",
       "    </tr>\n",
       "    <tr>\n",
       "      <th>6</th>\n",
       "      <td>NaN</td>\n",
       "      <td>AI</td>\n",
       "      <td>10000.0</td>\n",
       "    </tr>\n",
       "    <tr>\n",
       "      <th>7</th>\n",
       "      <td>kathy</td>\n",
       "      <td>ML</td>\n",
       "      <td>NaN</td>\n",
       "    </tr>\n",
       "    <tr>\n",
       "      <th>8</th>\n",
       "      <td>andrew</td>\n",
       "      <td>Data Science</td>\n",
       "      <td>10000.0</td>\n",
       "    </tr>\n",
       "    <tr>\n",
       "      <th>9</th>\n",
       "      <td>jack</td>\n",
       "      <td>NLP</td>\n",
       "      <td>2000.0</td>\n",
       "    </tr>\n",
       "  </tbody>\n",
       "</table>\n",
       "</div>"
      ],
      "text/plain": [
       "       Name   Departments   salary\n",
       "0      jack  Data Science  10000.0\n",
       "1      alex            ML      NaN\n",
       "2  caroline           NaN   4000.0\n",
       "3      jack            AI   4000.0\n",
       "4    sandra  Data Science   3000.0\n",
       "5      jack           NLP  20000.0\n",
       "6       NaN            AI  10000.0\n",
       "7     kathy            ML      NaN\n",
       "8    andrew  Data Science  10000.0\n",
       "9      jack           NLP   2000.0"
      ]
     },
     "execution_count": 110,
     "metadata": {},
     "output_type": "execute_result"
    }
   ],
   "source": [
    "data"
   ]
  },
  {
   "cell_type": "markdown",
   "id": "0ee5e2d9-c4c7-40be-89db-ea1b64652b47",
   "metadata": {},
   "source": [
    "here we will return a new data fream with no empty cell.."
   ]
  },
  {
   "cell_type": "code",
   "execution_count": 6,
   "id": "bd70d8d2",
   "metadata": {},
   "outputs": [],
   "source": [
    "data_1=data.dropna()"
   ]
  },
  {
   "cell_type": "code",
   "execution_count": 7,
   "id": "f72fca21",
   "metadata": {},
   "outputs": [
    {
     "data": {
      "text/html": [
       "<div>\n",
       "<style scoped>\n",
       "    .dataframe tbody tr th:only-of-type {\n",
       "        vertical-align: middle;\n",
       "    }\n",
       "\n",
       "    .dataframe tbody tr th {\n",
       "        vertical-align: top;\n",
       "    }\n",
       "\n",
       "    .dataframe thead th {\n",
       "        text-align: right;\n",
       "    }\n",
       "</style>\n",
       "<table border=\"1\" class=\"dataframe\">\n",
       "  <thead>\n",
       "    <tr style=\"text-align: right;\">\n",
       "      <th></th>\n",
       "      <th>Name</th>\n",
       "      <th>Departments</th>\n",
       "      <th>salary</th>\n",
       "    </tr>\n",
       "  </thead>\n",
       "  <tbody>\n",
       "    <tr>\n",
       "      <th>0</th>\n",
       "      <td>jack</td>\n",
       "      <td>Data Science</td>\n",
       "      <td>10000.0</td>\n",
       "    </tr>\n",
       "    <tr>\n",
       "      <th>3</th>\n",
       "      <td>jack</td>\n",
       "      <td>AI</td>\n",
       "      <td>4000.0</td>\n",
       "    </tr>\n",
       "    <tr>\n",
       "      <th>4</th>\n",
       "      <td>sandra</td>\n",
       "      <td>Data Science</td>\n",
       "      <td>3000.0</td>\n",
       "    </tr>\n",
       "    <tr>\n",
       "      <th>5</th>\n",
       "      <td>jack</td>\n",
       "      <td>NLP</td>\n",
       "      <td>20000.0</td>\n",
       "    </tr>\n",
       "    <tr>\n",
       "      <th>8</th>\n",
       "      <td>andrew</td>\n",
       "      <td>Data Science</td>\n",
       "      <td>10000.0</td>\n",
       "    </tr>\n",
       "    <tr>\n",
       "      <th>9</th>\n",
       "      <td>jack</td>\n",
       "      <td>NLP</td>\n",
       "      <td>2000.0</td>\n",
       "    </tr>\n",
       "  </tbody>\n",
       "</table>\n",
       "</div>"
      ],
      "text/plain": [
       "     Name   Departments   salary\n",
       "0    jack  Data Science  10000.0\n",
       "3    jack            AI   4000.0\n",
       "4  sandra  Data Science   3000.0\n",
       "5    jack           NLP  20000.0\n",
       "8  andrew  Data Science  10000.0\n",
       "9    jack           NLP   2000.0"
      ]
     },
     "execution_count": 7,
     "metadata": {},
     "output_type": "execute_result"
    }
   ],
   "source": [
    "data_1"
   ]
  },
  {
   "cell_type": "markdown",
   "id": "05198a05-303d-46a8-8973-c65ea01048ee",
   "metadata": {},
   "source": [
    "if add any case you want to change the original datafream , then use the inplace=true agument. it will remove the row containing the NULL(NaN ) values."
   ]
  },
  {
   "cell_type": "code",
   "execution_count": 8,
   "id": "a0cdeb1b",
   "metadata": {},
   "outputs": [],
   "source": [
    "data.dropna(inplace=True)"
   ]
  },
  {
   "cell_type": "code",
   "execution_count": 9,
   "id": "6dbea0bb",
   "metadata": {},
   "outputs": [
    {
     "data": {
      "text/html": [
       "<div>\n",
       "<style scoped>\n",
       "    .dataframe tbody tr th:only-of-type {\n",
       "        vertical-align: middle;\n",
       "    }\n",
       "\n",
       "    .dataframe tbody tr th {\n",
       "        vertical-align: top;\n",
       "    }\n",
       "\n",
       "    .dataframe thead th {\n",
       "        text-align: right;\n",
       "    }\n",
       "</style>\n",
       "<table border=\"1\" class=\"dataframe\">\n",
       "  <thead>\n",
       "    <tr style=\"text-align: right;\">\n",
       "      <th></th>\n",
       "      <th>Name</th>\n",
       "      <th>Departments</th>\n",
       "      <th>salary</th>\n",
       "    </tr>\n",
       "  </thead>\n",
       "  <tbody>\n",
       "    <tr>\n",
       "      <th>0</th>\n",
       "      <td>jack</td>\n",
       "      <td>Data Science</td>\n",
       "      <td>10000.0</td>\n",
       "    </tr>\n",
       "    <tr>\n",
       "      <th>3</th>\n",
       "      <td>jack</td>\n",
       "      <td>AI</td>\n",
       "      <td>4000.0</td>\n",
       "    </tr>\n",
       "    <tr>\n",
       "      <th>4</th>\n",
       "      <td>sandra</td>\n",
       "      <td>Data Science</td>\n",
       "      <td>3000.0</td>\n",
       "    </tr>\n",
       "    <tr>\n",
       "      <th>5</th>\n",
       "      <td>jack</td>\n",
       "      <td>NLP</td>\n",
       "      <td>20000.0</td>\n",
       "    </tr>\n",
       "    <tr>\n",
       "      <th>8</th>\n",
       "      <td>andrew</td>\n",
       "      <td>Data Science</td>\n",
       "      <td>10000.0</td>\n",
       "    </tr>\n",
       "    <tr>\n",
       "      <th>9</th>\n",
       "      <td>jack</td>\n",
       "      <td>NLP</td>\n",
       "      <td>2000.0</td>\n",
       "    </tr>\n",
       "  </tbody>\n",
       "</table>\n",
       "</div>"
      ],
      "text/plain": [
       "     Name   Departments   salary\n",
       "0    jack  Data Science  10000.0\n",
       "3    jack            AI   4000.0\n",
       "4  sandra  Data Science   3000.0\n",
       "5    jack           NLP  20000.0\n",
       "8  andrew  Data Science  10000.0\n",
       "9    jack           NLP   2000.0"
      ]
     },
     "execution_count": 9,
     "metadata": {},
     "output_type": "execute_result"
    }
   ],
   "source": [
    "data"
   ]
  },
  {
   "cell_type": "markdown",
   "id": "a4169a97-f166-4760-90d5-85b9d44ee221",
   "metadata": {},
   "source": [
    "replacing the empty value : we will use yhe fillna() method which will allow us to replace the empty cell with a value.\n"
   ]
  },
  {
   "cell_type": "code",
   "execution_count": 14,
   "id": "fae32663",
   "metadata": {},
   "outputs": [
    {
     "data": {
      "text/html": [
       "<div>\n",
       "<style scoped>\n",
       "    .dataframe tbody tr th:only-of-type {\n",
       "        vertical-align: middle;\n",
       "    }\n",
       "\n",
       "    .dataframe tbody tr th {\n",
       "        vertical-align: top;\n",
       "    }\n",
       "\n",
       "    .dataframe thead th {\n",
       "        text-align: right;\n",
       "    }\n",
       "</style>\n",
       "<table border=\"1\" class=\"dataframe\">\n",
       "  <thead>\n",
       "    <tr style=\"text-align: right;\">\n",
       "      <th></th>\n",
       "      <th>Name</th>\n",
       "      <th>Departments</th>\n",
       "      <th>salary</th>\n",
       "    </tr>\n",
       "  </thead>\n",
       "  <tbody>\n",
       "    <tr>\n",
       "      <th>0</th>\n",
       "      <td>jack</td>\n",
       "      <td>Data Science</td>\n",
       "      <td>10000.0</td>\n",
       "    </tr>\n",
       "    <tr>\n",
       "      <th>1</th>\n",
       "      <td>alex</td>\n",
       "      <td>ML</td>\n",
       "      <td>NaN</td>\n",
       "    </tr>\n",
       "    <tr>\n",
       "      <th>2</th>\n",
       "      <td>caroline</td>\n",
       "      <td>NaN</td>\n",
       "      <td>4000.0</td>\n",
       "    </tr>\n",
       "    <tr>\n",
       "      <th>3</th>\n",
       "      <td>jack</td>\n",
       "      <td>AI</td>\n",
       "      <td>4000.0</td>\n",
       "    </tr>\n",
       "    <tr>\n",
       "      <th>4</th>\n",
       "      <td>sandra</td>\n",
       "      <td>Data Science</td>\n",
       "      <td>3000.0</td>\n",
       "    </tr>\n",
       "    <tr>\n",
       "      <th>5</th>\n",
       "      <td>jack</td>\n",
       "      <td>NLP</td>\n",
       "      <td>20000.0</td>\n",
       "    </tr>\n",
       "    <tr>\n",
       "      <th>6</th>\n",
       "      <td>NaN</td>\n",
       "      <td>AI</td>\n",
       "      <td>10000.0</td>\n",
       "    </tr>\n",
       "    <tr>\n",
       "      <th>7</th>\n",
       "      <td>kathy</td>\n",
       "      <td>ML</td>\n",
       "      <td>NaN</td>\n",
       "    </tr>\n",
       "    <tr>\n",
       "      <th>8</th>\n",
       "      <td>andrew</td>\n",
       "      <td>Data Science</td>\n",
       "      <td>10000.0</td>\n",
       "    </tr>\n",
       "    <tr>\n",
       "      <th>9</th>\n",
       "      <td>jack</td>\n",
       "      <td>NLP</td>\n",
       "      <td>2000.0</td>\n",
       "    </tr>\n",
       "  </tbody>\n",
       "</table>\n",
       "</div>"
      ],
      "text/plain": [
       "       Name   Departments   salary\n",
       "0      jack  Data Science  10000.0\n",
       "1      alex            ML      NaN\n",
       "2  caroline           NaN   4000.0\n",
       "3      jack            AI   4000.0\n",
       "4    sandra  Data Science   3000.0\n",
       "5      jack           NLP  20000.0\n",
       "6       NaN            AI  10000.0\n",
       "7     kathy            ML      NaN\n",
       "8    andrew  Data Science  10000.0\n",
       "9      jack           NLP   2000.0"
      ]
     },
     "execution_count": 14,
     "metadata": {},
     "output_type": "execute_result"
    }
   ],
   "source": [
    "data"
   ]
  },
  {
   "cell_type": "code",
   "execution_count": 49,
   "id": "9430ac64",
   "metadata": {},
   "outputs": [],
   "source": [
    "data.fillna(130,inplace=True)"
   ]
  },
  {
   "cell_type": "code",
   "execution_count": 50,
   "id": "9734b4f4",
   "metadata": {},
   "outputs": [
    {
     "data": {
      "text/html": [
       "<div>\n",
       "<style scoped>\n",
       "    .dataframe tbody tr th:only-of-type {\n",
       "        vertical-align: middle;\n",
       "    }\n",
       "\n",
       "    .dataframe tbody tr th {\n",
       "        vertical-align: top;\n",
       "    }\n",
       "\n",
       "    .dataframe thead th {\n",
       "        text-align: right;\n",
       "    }\n",
       "</style>\n",
       "<table border=\"1\" class=\"dataframe\">\n",
       "  <thead>\n",
       "    <tr style=\"text-align: right;\">\n",
       "      <th></th>\n",
       "      <th>Name</th>\n",
       "      <th>Departments</th>\n",
       "      <th>salary</th>\n",
       "    </tr>\n",
       "  </thead>\n",
       "  <tbody>\n",
       "    <tr>\n",
       "      <th>0</th>\n",
       "      <td>jack</td>\n",
       "      <td>Data Science</td>\n",
       "      <td>10000.0</td>\n",
       "    </tr>\n",
       "    <tr>\n",
       "      <th>1</th>\n",
       "      <td>alex</td>\n",
       "      <td>ML</td>\n",
       "      <td>130.0</td>\n",
       "    </tr>\n",
       "    <tr>\n",
       "      <th>2</th>\n",
       "      <td>caroline</td>\n",
       "      <td>130</td>\n",
       "      <td>4000.0</td>\n",
       "    </tr>\n",
       "    <tr>\n",
       "      <th>3</th>\n",
       "      <td>jack</td>\n",
       "      <td>AI</td>\n",
       "      <td>4000.0</td>\n",
       "    </tr>\n",
       "    <tr>\n",
       "      <th>4</th>\n",
       "      <td>sandra</td>\n",
       "      <td>Data Science</td>\n",
       "      <td>3000.0</td>\n",
       "    </tr>\n",
       "    <tr>\n",
       "      <th>5</th>\n",
       "      <td>jack</td>\n",
       "      <td>NLP</td>\n",
       "      <td>20000.0</td>\n",
       "    </tr>\n",
       "    <tr>\n",
       "      <th>6</th>\n",
       "      <td>130</td>\n",
       "      <td>AI</td>\n",
       "      <td>10000.0</td>\n",
       "    </tr>\n",
       "    <tr>\n",
       "      <th>7</th>\n",
       "      <td>kathy</td>\n",
       "      <td>ML</td>\n",
       "      <td>130.0</td>\n",
       "    </tr>\n",
       "    <tr>\n",
       "      <th>8</th>\n",
       "      <td>andrew</td>\n",
       "      <td>Data Science</td>\n",
       "      <td>10000.0</td>\n",
       "    </tr>\n",
       "    <tr>\n",
       "      <th>9</th>\n",
       "      <td>jack</td>\n",
       "      <td>NLP</td>\n",
       "      <td>2000.0</td>\n",
       "    </tr>\n",
       "  </tbody>\n",
       "</table>\n",
       "</div>"
      ],
      "text/plain": [
       "       Name   Departments   salary\n",
       "0      jack  Data Science  10000.0\n",
       "1      alex            ML    130.0\n",
       "2  caroline           130   4000.0\n",
       "3      jack            AI   4000.0\n",
       "4    sandra  Data Science   3000.0\n",
       "5      jack           NLP  20000.0\n",
       "6       130            AI  10000.0\n",
       "7     kathy            ML    130.0\n",
       "8    andrew  Data Science  10000.0\n",
       "9      jack           NLP   2000.0"
      ]
     },
     "execution_count": 50,
     "metadata": {},
     "output_type": "execute_result"
    }
   ],
   "source": [
    "data"
   ]
  },
  {
   "cell_type": "markdown",
   "id": "05e11aa6-b36f-4ef6-bd2a-2e707c2ab9af",
   "metadata": {},
   "source": [
    "To replace only the empty value for one col, you need to specify the column name"
   ]
  },
  {
   "cell_type": "code",
   "execution_count": 52,
   "id": "c0d6c6a9",
   "metadata": {},
   "outputs": [],
   "source": [
    "data[\"salary\"].fillna(130,inplace=True)"
   ]
  },
  {
   "cell_type": "code",
   "execution_count": 53,
   "id": "a9824820",
   "metadata": {},
   "outputs": [
    {
     "data": {
      "text/html": [
       "<div>\n",
       "<style scoped>\n",
       "    .dataframe tbody tr th:only-of-type {\n",
       "        vertical-align: middle;\n",
       "    }\n",
       "\n",
       "    .dataframe tbody tr th {\n",
       "        vertical-align: top;\n",
       "    }\n",
       "\n",
       "    .dataframe thead th {\n",
       "        text-align: right;\n",
       "    }\n",
       "</style>\n",
       "<table border=\"1\" class=\"dataframe\">\n",
       "  <thead>\n",
       "    <tr style=\"text-align: right;\">\n",
       "      <th></th>\n",
       "      <th>Name</th>\n",
       "      <th>Departments</th>\n",
       "      <th>salary</th>\n",
       "    </tr>\n",
       "  </thead>\n",
       "  <tbody>\n",
       "    <tr>\n",
       "      <th>0</th>\n",
       "      <td>jack</td>\n",
       "      <td>Data Science</td>\n",
       "      <td>10000.0</td>\n",
       "    </tr>\n",
       "    <tr>\n",
       "      <th>1</th>\n",
       "      <td>alex</td>\n",
       "      <td>ML</td>\n",
       "      <td>130.0</td>\n",
       "    </tr>\n",
       "    <tr>\n",
       "      <th>2</th>\n",
       "      <td>caroline</td>\n",
       "      <td>NaN</td>\n",
       "      <td>4000.0</td>\n",
       "    </tr>\n",
       "    <tr>\n",
       "      <th>3</th>\n",
       "      <td>jack</td>\n",
       "      <td>AI</td>\n",
       "      <td>4000.0</td>\n",
       "    </tr>\n",
       "    <tr>\n",
       "      <th>4</th>\n",
       "      <td>sandra</td>\n",
       "      <td>Data Science</td>\n",
       "      <td>3000.0</td>\n",
       "    </tr>\n",
       "    <tr>\n",
       "      <th>5</th>\n",
       "      <td>jack</td>\n",
       "      <td>NLP</td>\n",
       "      <td>20000.0</td>\n",
       "    </tr>\n",
       "    <tr>\n",
       "      <th>6</th>\n",
       "      <td>NaN</td>\n",
       "      <td>AI</td>\n",
       "      <td>10000.0</td>\n",
       "    </tr>\n",
       "    <tr>\n",
       "      <th>7</th>\n",
       "      <td>kathy</td>\n",
       "      <td>ML</td>\n",
       "      <td>130.0</td>\n",
       "    </tr>\n",
       "    <tr>\n",
       "      <th>8</th>\n",
       "      <td>andrew</td>\n",
       "      <td>Data Science</td>\n",
       "      <td>10000.0</td>\n",
       "    </tr>\n",
       "    <tr>\n",
       "      <th>9</th>\n",
       "      <td>jack</td>\n",
       "      <td>NLP</td>\n",
       "      <td>2000.0</td>\n",
       "    </tr>\n",
       "  </tbody>\n",
       "</table>\n",
       "</div>"
      ],
      "text/plain": [
       "       Name   Departments   salary\n",
       "0      jack  Data Science  10000.0\n",
       "1      alex            ML    130.0\n",
       "2  caroline           NaN   4000.0\n",
       "3      jack            AI   4000.0\n",
       "4    sandra  Data Science   3000.0\n",
       "5      jack           NLP  20000.0\n",
       "6       NaN            AI  10000.0\n",
       "7     kathy            ML    130.0\n",
       "8    andrew  Data Science  10000.0\n",
       "9      jack           NLP   2000.0"
      ]
     },
     "execution_count": 53,
     "metadata": {},
     "output_type": "execute_result"
    }
   ],
   "source": [
    "data"
   ]
  },
  {
   "cell_type": "markdown",
   "id": "cd8c7663-af59-40f4-8e1a-7864c8303857",
   "metadata": {},
   "source": [
    "here we can also replace the empty cell using mean(), median(), mode()."
   ]
  },
  {
   "cell_type": "markdown",
   "id": "28d9eff3-15f0-49c7-9964-773136645375",
   "metadata": {},
   "source": [
    "calculate the MEAN and replace the empty values with it.."
   ]
  },
  {
   "cell_type": "code",
   "execution_count": 60,
   "id": "31ef6a30",
   "metadata": {},
   "outputs": [],
   "source": [
    "data_2=data"
   ]
  },
  {
   "cell_type": "code",
   "execution_count": 61,
   "id": "aa43dc0f",
   "metadata": {},
   "outputs": [
    {
     "data": {
      "text/html": [
       "<div>\n",
       "<style scoped>\n",
       "    .dataframe tbody tr th:only-of-type {\n",
       "        vertical-align: middle;\n",
       "    }\n",
       "\n",
       "    .dataframe tbody tr th {\n",
       "        vertical-align: top;\n",
       "    }\n",
       "\n",
       "    .dataframe thead th {\n",
       "        text-align: right;\n",
       "    }\n",
       "</style>\n",
       "<table border=\"1\" class=\"dataframe\">\n",
       "  <thead>\n",
       "    <tr style=\"text-align: right;\">\n",
       "      <th></th>\n",
       "      <th>Name</th>\n",
       "      <th>Departments</th>\n",
       "      <th>salary</th>\n",
       "    </tr>\n",
       "  </thead>\n",
       "  <tbody>\n",
       "    <tr>\n",
       "      <th>0</th>\n",
       "      <td>jack</td>\n",
       "      <td>Data Science</td>\n",
       "      <td>10000.0</td>\n",
       "    </tr>\n",
       "    <tr>\n",
       "      <th>1</th>\n",
       "      <td>alex</td>\n",
       "      <td>ML</td>\n",
       "      <td>NaN</td>\n",
       "    </tr>\n",
       "    <tr>\n",
       "      <th>2</th>\n",
       "      <td>caroline</td>\n",
       "      <td>NaN</td>\n",
       "      <td>4000.0</td>\n",
       "    </tr>\n",
       "    <tr>\n",
       "      <th>3</th>\n",
       "      <td>jack</td>\n",
       "      <td>AI</td>\n",
       "      <td>4000.0</td>\n",
       "    </tr>\n",
       "    <tr>\n",
       "      <th>4</th>\n",
       "      <td>sandra</td>\n",
       "      <td>Data Science</td>\n",
       "      <td>3000.0</td>\n",
       "    </tr>\n",
       "    <tr>\n",
       "      <th>5</th>\n",
       "      <td>jack</td>\n",
       "      <td>NLP</td>\n",
       "      <td>20000.0</td>\n",
       "    </tr>\n",
       "    <tr>\n",
       "      <th>6</th>\n",
       "      <td>NaN</td>\n",
       "      <td>AI</td>\n",
       "      <td>10000.0</td>\n",
       "    </tr>\n",
       "    <tr>\n",
       "      <th>7</th>\n",
       "      <td>kathy</td>\n",
       "      <td>ML</td>\n",
       "      <td>NaN</td>\n",
       "    </tr>\n",
       "    <tr>\n",
       "      <th>8</th>\n",
       "      <td>andrew</td>\n",
       "      <td>Data Science</td>\n",
       "      <td>10000.0</td>\n",
       "    </tr>\n",
       "    <tr>\n",
       "      <th>9</th>\n",
       "      <td>jack</td>\n",
       "      <td>NLP</td>\n",
       "      <td>2000.0</td>\n",
       "    </tr>\n",
       "  </tbody>\n",
       "</table>\n",
       "</div>"
      ],
      "text/plain": [
       "       Name   Departments   salary\n",
       "0      jack  Data Science  10000.0\n",
       "1      alex            ML      NaN\n",
       "2  caroline           NaN   4000.0\n",
       "3      jack            AI   4000.0\n",
       "4    sandra  Data Science   3000.0\n",
       "5      jack           NLP  20000.0\n",
       "6       NaN            AI  10000.0\n",
       "7     kathy            ML      NaN\n",
       "8    andrew  Data Science  10000.0\n",
       "9      jack           NLP   2000.0"
      ]
     },
     "execution_count": 61,
     "metadata": {},
     "output_type": "execute_result"
    }
   ],
   "source": [
    "data_2"
   ]
  },
  {
   "cell_type": "code",
   "execution_count": 90,
   "id": "07489871-cb3d-48fe-a362-e7bbb02b6a88",
   "metadata": {},
   "outputs": [
    {
     "data": {
      "text/plain": [
       "7875.0"
      ]
     },
     "execution_count": 90,
     "metadata": {},
     "output_type": "execute_result"
    }
   ],
   "source": [
    "data[\"salary\"].mean()"
   ]
  },
  {
   "cell_type": "code",
   "execution_count": 91,
   "id": "e007d0a0-9b08-42a4-8ff3-0a903b192a1b",
   "metadata": {},
   "outputs": [],
   "source": [
    "data_2=data[\"salary\"].mean()"
   ]
  },
  {
   "cell_type": "code",
   "execution_count": 92,
   "id": "978e0315-bc67-4c70-96e7-9760e20f33ba",
   "metadata": {},
   "outputs": [],
   "source": [
    "data[\"salary\"].fillna(data_2,inplace=True)"
   ]
  },
  {
   "cell_type": "code",
   "execution_count": 93,
   "id": "ba3c7ae7-4502-49a4-bda9-28fed66dafe7",
   "metadata": {},
   "outputs": [
    {
     "data": {
      "text/html": [
       "<div>\n",
       "<style scoped>\n",
       "    .dataframe tbody tr th:only-of-type {\n",
       "        vertical-align: middle;\n",
       "    }\n",
       "\n",
       "    .dataframe tbody tr th {\n",
       "        vertical-align: top;\n",
       "    }\n",
       "\n",
       "    .dataframe thead th {\n",
       "        text-align: right;\n",
       "    }\n",
       "</style>\n",
       "<table border=\"1\" class=\"dataframe\">\n",
       "  <thead>\n",
       "    <tr style=\"text-align: right;\">\n",
       "      <th></th>\n",
       "      <th>Name</th>\n",
       "      <th>Departments</th>\n",
       "      <th>salary</th>\n",
       "    </tr>\n",
       "  </thead>\n",
       "  <tbody>\n",
       "    <tr>\n",
       "      <th>0</th>\n",
       "      <td>jack</td>\n",
       "      <td>Data Science</td>\n",
       "      <td>10000.0</td>\n",
       "    </tr>\n",
       "    <tr>\n",
       "      <th>1</th>\n",
       "      <td>alex</td>\n",
       "      <td>ML</td>\n",
       "      <td>7875.0</td>\n",
       "    </tr>\n",
       "    <tr>\n",
       "      <th>2</th>\n",
       "      <td>caroline</td>\n",
       "      <td>NaN</td>\n",
       "      <td>4000.0</td>\n",
       "    </tr>\n",
       "    <tr>\n",
       "      <th>3</th>\n",
       "      <td>jack</td>\n",
       "      <td>AI</td>\n",
       "      <td>4000.0</td>\n",
       "    </tr>\n",
       "    <tr>\n",
       "      <th>4</th>\n",
       "      <td>sandra</td>\n",
       "      <td>Data Science</td>\n",
       "      <td>3000.0</td>\n",
       "    </tr>\n",
       "    <tr>\n",
       "      <th>5</th>\n",
       "      <td>jack</td>\n",
       "      <td>NLP</td>\n",
       "      <td>20000.0</td>\n",
       "    </tr>\n",
       "    <tr>\n",
       "      <th>6</th>\n",
       "      <td>NaN</td>\n",
       "      <td>AI</td>\n",
       "      <td>10000.0</td>\n",
       "    </tr>\n",
       "    <tr>\n",
       "      <th>7</th>\n",
       "      <td>kathy</td>\n",
       "      <td>ML</td>\n",
       "      <td>7875.0</td>\n",
       "    </tr>\n",
       "    <tr>\n",
       "      <th>8</th>\n",
       "      <td>andrew</td>\n",
       "      <td>Data Science</td>\n",
       "      <td>10000.0</td>\n",
       "    </tr>\n",
       "    <tr>\n",
       "      <th>9</th>\n",
       "      <td>jack</td>\n",
       "      <td>NLP</td>\n",
       "      <td>2000.0</td>\n",
       "    </tr>\n",
       "  </tbody>\n",
       "</table>\n",
       "</div>"
      ],
      "text/plain": [
       "       Name   Departments   salary\n",
       "0      jack  Data Science  10000.0\n",
       "1      alex            ML   7875.0\n",
       "2  caroline           NaN   4000.0\n",
       "3      jack            AI   4000.0\n",
       "4    sandra  Data Science   3000.0\n",
       "5      jack           NLP  20000.0\n",
       "6       NaN            AI  10000.0\n",
       "7     kathy            ML   7875.0\n",
       "8    andrew  Data Science  10000.0\n",
       "9      jack           NLP   2000.0"
      ]
     },
     "execution_count": 93,
     "metadata": {},
     "output_type": "execute_result"
    }
   ],
   "source": [
    "data"
   ]
  },
  {
   "cell_type": "code",
   "execution_count": null,
   "id": "d202bdd6-bfe4-4ffb-a766-e16445cbc1f4",
   "metadata": {},
   "outputs": [],
   "source": []
  },
  {
   "cell_type": "code",
   "execution_count": 95,
   "id": "269a5827-7446-43de-aa77-ecd8bea575fa",
   "metadata": {},
   "outputs": [
    {
     "data": {
      "text/html": [
       "<div>\n",
       "<style scoped>\n",
       "    .dataframe tbody tr th:only-of-type {\n",
       "        vertical-align: middle;\n",
       "    }\n",
       "\n",
       "    .dataframe tbody tr th {\n",
       "        vertical-align: top;\n",
       "    }\n",
       "\n",
       "    .dataframe thead th {\n",
       "        text-align: right;\n",
       "    }\n",
       "</style>\n",
       "<table border=\"1\" class=\"dataframe\">\n",
       "  <thead>\n",
       "    <tr style=\"text-align: right;\">\n",
       "      <th></th>\n",
       "      <th>Name</th>\n",
       "      <th>Departments</th>\n",
       "      <th>salary</th>\n",
       "    </tr>\n",
       "  </thead>\n",
       "  <tbody>\n",
       "    <tr>\n",
       "      <th>0</th>\n",
       "      <td>jack</td>\n",
       "      <td>Data Science</td>\n",
       "      <td>10000.0</td>\n",
       "    </tr>\n",
       "    <tr>\n",
       "      <th>1</th>\n",
       "      <td>alex</td>\n",
       "      <td>ML</td>\n",
       "      <td>7875.0</td>\n",
       "    </tr>\n",
       "    <tr>\n",
       "      <th>2</th>\n",
       "      <td>caroline</td>\n",
       "      <td>NaN</td>\n",
       "      <td>4000.0</td>\n",
       "    </tr>\n",
       "    <tr>\n",
       "      <th>3</th>\n",
       "      <td>jack</td>\n",
       "      <td>AI</td>\n",
       "      <td>4000.0</td>\n",
       "    </tr>\n",
       "    <tr>\n",
       "      <th>4</th>\n",
       "      <td>sandra</td>\n",
       "      <td>Data Science</td>\n",
       "      <td>3000.0</td>\n",
       "    </tr>\n",
       "    <tr>\n",
       "      <th>5</th>\n",
       "      <td>jack</td>\n",
       "      <td>NLP</td>\n",
       "      <td>20000.0</td>\n",
       "    </tr>\n",
       "    <tr>\n",
       "      <th>6</th>\n",
       "      <td>NaN</td>\n",
       "      <td>AI</td>\n",
       "      <td>10000.0</td>\n",
       "    </tr>\n",
       "    <tr>\n",
       "      <th>7</th>\n",
       "      <td>kathy</td>\n",
       "      <td>ML</td>\n",
       "      <td>7875.0</td>\n",
       "    </tr>\n",
       "    <tr>\n",
       "      <th>8</th>\n",
       "      <td>andrew</td>\n",
       "      <td>Data Science</td>\n",
       "      <td>10000.0</td>\n",
       "    </tr>\n",
       "    <tr>\n",
       "      <th>9</th>\n",
       "      <td>jack</td>\n",
       "      <td>NLP</td>\n",
       "      <td>2000.0</td>\n",
       "    </tr>\n",
       "  </tbody>\n",
       "</table>\n",
       "</div>"
      ],
      "text/plain": [
       "       Name   Departments   salary\n",
       "0      jack  Data Science  10000.0\n",
       "1      alex            ML   7875.0\n",
       "2  caroline           NaN   4000.0\n",
       "3      jack            AI   4000.0\n",
       "4    sandra  Data Science   3000.0\n",
       "5      jack           NLP  20000.0\n",
       "6       NaN            AI  10000.0\n",
       "7     kathy            ML   7875.0\n",
       "8    andrew  Data Science  10000.0\n",
       "9      jack           NLP   2000.0"
      ]
     },
     "execution_count": 95,
     "metadata": {},
     "output_type": "execute_result"
    }
   ],
   "source": [
    "data"
   ]
  },
  {
   "cell_type": "markdown",
   "id": "435ed701-7b65-4c7b-b979-38bdc57e7650",
   "metadata": {},
   "source": [
    "calculate the MEDIAN AND REPLACE ANY EMPTY VALUES IN IT.."
   ]
  },
  {
   "cell_type": "code",
   "execution_count": 111,
   "id": "23527dd6-5e78-40b8-83fb-537e6b9a66ec",
   "metadata": {},
   "outputs": [
    {
     "data": {
      "text/plain": [
       "7000.0"
      ]
     },
     "execution_count": 111,
     "metadata": {},
     "output_type": "execute_result"
    }
   ],
   "source": [
    "data[\"salary\"].median()"
   ]
  },
  {
   "cell_type": "code",
   "execution_count": 112,
   "id": "ba2e7aae-bd89-4fe0-bba4-434a00bd3a8b",
   "metadata": {},
   "outputs": [],
   "source": [
    "data_3=data[\"salary\"].median()"
   ]
  },
  {
   "cell_type": "code",
   "execution_count": 113,
   "id": "58b49fa5-3c53-4969-aea4-5a17cdddd1e9",
   "metadata": {},
   "outputs": [],
   "source": [
    "data[\"salary\"].fillna(data_3,inplace=True)"
   ]
  },
  {
   "cell_type": "code",
   "execution_count": 114,
   "id": "aab17a95-d2cd-4f99-b493-a8e0d01d05e8",
   "metadata": {},
   "outputs": [
    {
     "data": {
      "text/html": [
       "<div>\n",
       "<style scoped>\n",
       "    .dataframe tbody tr th:only-of-type {\n",
       "        vertical-align: middle;\n",
       "    }\n",
       "\n",
       "    .dataframe tbody tr th {\n",
       "        vertical-align: top;\n",
       "    }\n",
       "\n",
       "    .dataframe thead th {\n",
       "        text-align: right;\n",
       "    }\n",
       "</style>\n",
       "<table border=\"1\" class=\"dataframe\">\n",
       "  <thead>\n",
       "    <tr style=\"text-align: right;\">\n",
       "      <th></th>\n",
       "      <th>Name</th>\n",
       "      <th>Departments</th>\n",
       "      <th>salary</th>\n",
       "    </tr>\n",
       "  </thead>\n",
       "  <tbody>\n",
       "    <tr>\n",
       "      <th>0</th>\n",
       "      <td>jack</td>\n",
       "      <td>Data Science</td>\n",
       "      <td>10000.0</td>\n",
       "    </tr>\n",
       "    <tr>\n",
       "      <th>1</th>\n",
       "      <td>alex</td>\n",
       "      <td>ML</td>\n",
       "      <td>7000.0</td>\n",
       "    </tr>\n",
       "    <tr>\n",
       "      <th>2</th>\n",
       "      <td>caroline</td>\n",
       "      <td>NaN</td>\n",
       "      <td>4000.0</td>\n",
       "    </tr>\n",
       "    <tr>\n",
       "      <th>3</th>\n",
       "      <td>jack</td>\n",
       "      <td>AI</td>\n",
       "      <td>4000.0</td>\n",
       "    </tr>\n",
       "    <tr>\n",
       "      <th>4</th>\n",
       "      <td>sandra</td>\n",
       "      <td>Data Science</td>\n",
       "      <td>3000.0</td>\n",
       "    </tr>\n",
       "    <tr>\n",
       "      <th>5</th>\n",
       "      <td>jack</td>\n",
       "      <td>NLP</td>\n",
       "      <td>20000.0</td>\n",
       "    </tr>\n",
       "    <tr>\n",
       "      <th>6</th>\n",
       "      <td>NaN</td>\n",
       "      <td>AI</td>\n",
       "      <td>10000.0</td>\n",
       "    </tr>\n",
       "    <tr>\n",
       "      <th>7</th>\n",
       "      <td>kathy</td>\n",
       "      <td>ML</td>\n",
       "      <td>7000.0</td>\n",
       "    </tr>\n",
       "    <tr>\n",
       "      <th>8</th>\n",
       "      <td>andrew</td>\n",
       "      <td>Data Science</td>\n",
       "      <td>10000.0</td>\n",
       "    </tr>\n",
       "    <tr>\n",
       "      <th>9</th>\n",
       "      <td>jack</td>\n",
       "      <td>NLP</td>\n",
       "      <td>2000.0</td>\n",
       "    </tr>\n",
       "  </tbody>\n",
       "</table>\n",
       "</div>"
      ],
      "text/plain": [
       "       Name   Departments   salary\n",
       "0      jack  Data Science  10000.0\n",
       "1      alex            ML   7000.0\n",
       "2  caroline           NaN   4000.0\n",
       "3      jack            AI   4000.0\n",
       "4    sandra  Data Science   3000.0\n",
       "5      jack           NLP  20000.0\n",
       "6       NaN            AI  10000.0\n",
       "7     kathy            ML   7000.0\n",
       "8    andrew  Data Science  10000.0\n",
       "9      jack           NLP   2000.0"
      ]
     },
     "execution_count": 114,
     "metadata": {},
     "output_type": "execute_result"
    }
   ],
   "source": [
    "data"
   ]
  },
  {
   "cell_type": "markdown",
   "id": "e1437c97-50f1-4009-940f-827fb9d2f583",
   "metadata": {},
   "source": [
    "# Pandas Removing Duplicates"
   ]
  },
  {
   "cell_type": "code",
   "execution_count": 138,
   "id": "e6c6983a-20b8-4138-8f6e-fc7cc092f1fa",
   "metadata": {},
   "outputs": [],
   "source": [
    "data=pd.read_csv(r\"C:\\Users\\arnak\\Downloads\\sample4 - sample4.csv (2).csv\")"
   ]
  },
  {
   "cell_type": "code",
   "execution_count": 139,
   "id": "cb9c3202-39b2-4570-8df6-c358fa010afa",
   "metadata": {},
   "outputs": [
    {
     "data": {
      "text/html": [
       "<div>\n",
       "<style scoped>\n",
       "    .dataframe tbody tr th:only-of-type {\n",
       "        vertical-align: middle;\n",
       "    }\n",
       "\n",
       "    .dataframe tbody tr th {\n",
       "        vertical-align: top;\n",
       "    }\n",
       "\n",
       "    .dataframe thead th {\n",
       "        text-align: right;\n",
       "    }\n",
       "</style>\n",
       "<table border=\"1\" class=\"dataframe\">\n",
       "  <thead>\n",
       "    <tr style=\"text-align: right;\">\n",
       "      <th></th>\n",
       "      <th>Name</th>\n",
       "      <th>Departments</th>\n",
       "      <th>salary</th>\n",
       "    </tr>\n",
       "  </thead>\n",
       "  <tbody>\n",
       "    <tr>\n",
       "      <th>0</th>\n",
       "      <td>jack</td>\n",
       "      <td>Data Science</td>\n",
       "      <td>10000.0</td>\n",
       "    </tr>\n",
       "    <tr>\n",
       "      <th>1</th>\n",
       "      <td>alex</td>\n",
       "      <td>ML</td>\n",
       "      <td>NaN</td>\n",
       "    </tr>\n",
       "    <tr>\n",
       "      <th>2</th>\n",
       "      <td>caroline</td>\n",
       "      <td>NaN</td>\n",
       "      <td>4000.0</td>\n",
       "    </tr>\n",
       "    <tr>\n",
       "      <th>3</th>\n",
       "      <td>jack</td>\n",
       "      <td>AI</td>\n",
       "      <td>4000.0</td>\n",
       "    </tr>\n",
       "    <tr>\n",
       "      <th>4</th>\n",
       "      <td>sandra</td>\n",
       "      <td>Data Science</td>\n",
       "      <td>3000.0</td>\n",
       "    </tr>\n",
       "    <tr>\n",
       "      <th>5</th>\n",
       "      <td>jack</td>\n",
       "      <td>NLP</td>\n",
       "      <td>20000.0</td>\n",
       "    </tr>\n",
       "    <tr>\n",
       "      <th>6</th>\n",
       "      <td>NaN</td>\n",
       "      <td>AI</td>\n",
       "      <td>10000.0</td>\n",
       "    </tr>\n",
       "    <tr>\n",
       "      <th>7</th>\n",
       "      <td>jack</td>\n",
       "      <td>AI</td>\n",
       "      <td>4000.0</td>\n",
       "    </tr>\n",
       "    <tr>\n",
       "      <th>8</th>\n",
       "      <td>kathy</td>\n",
       "      <td>ML</td>\n",
       "      <td>NaN</td>\n",
       "    </tr>\n",
       "    <tr>\n",
       "      <th>9</th>\n",
       "      <td>andrew</td>\n",
       "      <td>Data Science</td>\n",
       "      <td>10000.0</td>\n",
       "    </tr>\n",
       "    <tr>\n",
       "      <th>10</th>\n",
       "      <td>jack</td>\n",
       "      <td>NLP</td>\n",
       "      <td>2000.0</td>\n",
       "    </tr>\n",
       "    <tr>\n",
       "      <th>11</th>\n",
       "      <td>jack</td>\n",
       "      <td>Data Science</td>\n",
       "      <td>10000.0</td>\n",
       "    </tr>\n",
       "  </tbody>\n",
       "</table>\n",
       "</div>"
      ],
      "text/plain": [
       "        Name   Departments   salary\n",
       "0       jack  Data Science  10000.0\n",
       "1       alex            ML      NaN\n",
       "2   caroline           NaN   4000.0\n",
       "3       jack            AI   4000.0\n",
       "4     sandra  Data Science   3000.0\n",
       "5       jack           NLP  20000.0\n",
       "6        NaN            AI  10000.0\n",
       "7       jack            AI   4000.0\n",
       "8      kathy            ML      NaN\n",
       "9     andrew  Data Science  10000.0\n",
       "10      jack           NLP   2000.0\n",
       "11      jack  Data Science  10000.0"
      ]
     },
     "execution_count": 139,
     "metadata": {},
     "output_type": "execute_result"
    }
   ],
   "source": [
    "data"
   ]
  },
  {
   "cell_type": "markdown",
   "id": "99e648ba-97db-481a-8a0f-0f3597728a18",
   "metadata": {},
   "source": [
    "first you need to discover the duplicate values via duplicate() method."
   ]
  },
  {
   "cell_type": "markdown",
   "id": "c0228fc4-ff6f-4df9-9d1e-be13d91d870a",
   "metadata": {},
   "source": [
    "return true for every row that is duplicate otherwise return false"
   ]
  },
  {
   "cell_type": "code",
   "execution_count": 141,
   "id": "4c6b39f3-983c-4aa6-82c5-7cb223690144",
   "metadata": {},
   "outputs": [
    {
     "data": {
      "text/plain": [
       "0     False\n",
       "1     False\n",
       "2     False\n",
       "3     False\n",
       "4     False\n",
       "5     False\n",
       "6     False\n",
       "7      True\n",
       "8     False\n",
       "9     False\n",
       "10    False\n",
       "11     True\n",
       "dtype: bool"
      ]
     },
     "execution_count": 141,
     "metadata": {},
     "output_type": "execute_result"
    }
   ],
   "source": [
    "data.duplicated()"
   ]
  },
  {
   "cell_type": "markdown",
   "id": "8fc3b7c4-4d05-4870-a1e3-dd56b7438e2c",
   "metadata": {},
   "source": [
    "removing the duplicate from the data set. via drop_duplicates()"
   ]
  },
  {
   "cell_type": "code",
   "execution_count": 143,
   "id": "a5b0eea6-6a77-4c98-a4c5-622c382a6f68",
   "metadata": {},
   "outputs": [],
   "source": [
    "data.drop_duplicates(inplace=True)"
   ]
  },
  {
   "cell_type": "code",
   "execution_count": 144,
   "id": "f7734dcc-319b-4782-8bea-c2ff570a046d",
   "metadata": {},
   "outputs": [
    {
     "data": {
      "text/html": [
       "<div>\n",
       "<style scoped>\n",
       "    .dataframe tbody tr th:only-of-type {\n",
       "        vertical-align: middle;\n",
       "    }\n",
       "\n",
       "    .dataframe tbody tr th {\n",
       "        vertical-align: top;\n",
       "    }\n",
       "\n",
       "    .dataframe thead th {\n",
       "        text-align: right;\n",
       "    }\n",
       "</style>\n",
       "<table border=\"1\" class=\"dataframe\">\n",
       "  <thead>\n",
       "    <tr style=\"text-align: right;\">\n",
       "      <th></th>\n",
       "      <th>Name</th>\n",
       "      <th>Departments</th>\n",
       "      <th>salary</th>\n",
       "    </tr>\n",
       "  </thead>\n",
       "  <tbody>\n",
       "    <tr>\n",
       "      <th>0</th>\n",
       "      <td>jack</td>\n",
       "      <td>Data Science</td>\n",
       "      <td>10000.0</td>\n",
       "    </tr>\n",
       "    <tr>\n",
       "      <th>1</th>\n",
       "      <td>alex</td>\n",
       "      <td>ML</td>\n",
       "      <td>NaN</td>\n",
       "    </tr>\n",
       "    <tr>\n",
       "      <th>2</th>\n",
       "      <td>caroline</td>\n",
       "      <td>NaN</td>\n",
       "      <td>4000.0</td>\n",
       "    </tr>\n",
       "    <tr>\n",
       "      <th>3</th>\n",
       "      <td>jack</td>\n",
       "      <td>AI</td>\n",
       "      <td>4000.0</td>\n",
       "    </tr>\n",
       "    <tr>\n",
       "      <th>4</th>\n",
       "      <td>sandra</td>\n",
       "      <td>Data Science</td>\n",
       "      <td>3000.0</td>\n",
       "    </tr>\n",
       "    <tr>\n",
       "      <th>5</th>\n",
       "      <td>jack</td>\n",
       "      <td>NLP</td>\n",
       "      <td>20000.0</td>\n",
       "    </tr>\n",
       "    <tr>\n",
       "      <th>6</th>\n",
       "      <td>NaN</td>\n",
       "      <td>AI</td>\n",
       "      <td>10000.0</td>\n",
       "    </tr>\n",
       "    <tr>\n",
       "      <th>8</th>\n",
       "      <td>kathy</td>\n",
       "      <td>ML</td>\n",
       "      <td>NaN</td>\n",
       "    </tr>\n",
       "    <tr>\n",
       "      <th>9</th>\n",
       "      <td>andrew</td>\n",
       "      <td>Data Science</td>\n",
       "      <td>10000.0</td>\n",
       "    </tr>\n",
       "    <tr>\n",
       "      <th>10</th>\n",
       "      <td>jack</td>\n",
       "      <td>NLP</td>\n",
       "      <td>2000.0</td>\n",
       "    </tr>\n",
       "  </tbody>\n",
       "</table>\n",
       "</div>"
      ],
      "text/plain": [
       "        Name   Departments   salary\n",
       "0       jack  Data Science  10000.0\n",
       "1       alex            ML      NaN\n",
       "2   caroline           NaN   4000.0\n",
       "3       jack            AI   4000.0\n",
       "4     sandra  Data Science   3000.0\n",
       "5       jack           NLP  20000.0\n",
       "6        NaN            AI  10000.0\n",
       "8      kathy            ML      NaN\n",
       "9     andrew  Data Science  10000.0\n",
       "10      jack           NLP   2000.0"
      ]
     },
     "execution_count": 144,
     "metadata": {},
     "output_type": "execute_result"
    }
   ],
   "source": [
    "data"
   ]
  },
  {
   "cell_type": "code",
   "execution_count": null,
   "id": "9343c8f5-0829-4d7c-b690-c326aeceeaea",
   "metadata": {},
   "outputs": [],
   "source": []
  }
 ],
 "metadata": {
  "kernelspec": {
   "display_name": "Python 3 (ipykernel)",
   "language": "python",
   "name": "python3"
  },
  "language_info": {
   "codemirror_mode": {
    "name": "ipython",
    "version": 3
   },
   "file_extension": ".py",
   "mimetype": "text/x-python",
   "name": "python",
   "nbconvert_exporter": "python",
   "pygments_lexer": "ipython3",
   "version": "3.11.7"
  }
 },
 "nbformat": 4,
 "nbformat_minor": 5
}
